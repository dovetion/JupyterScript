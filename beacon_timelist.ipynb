{
 "cells": [
  {
   "cell_type": "code",
   "execution_count": 1,
   "metadata": {},
   "outputs": [
    {
     "name": "stdout",
     "output_type": "stream",
     "text": [
      "pygame 1.9.4\n",
      "Hello from the pygame community. https://www.pygame.org/contribute.html\n"
     ]
    },
    {
     "ename": "error",
     "evalue": "Unable to open file 'bell.wav'",
     "output_type": "error",
     "traceback": [
      "\u001b[0;31m---------------------------------------------------------------------------\u001b[0m",
      "\u001b[0;31merror\u001b[0m                                     Traceback (most recent call last)",
      "\u001b[0;32m<ipython-input-1-ce6b45274eff>\u001b[0m in \u001b[0;36m<module>\u001b[0;34m()\u001b[0m\n\u001b[1;32m      7\u001b[0m \u001b[0;32mfrom\u001b[0m \u001b[0mpygame\u001b[0m \u001b[0;32mimport\u001b[0m \u001b[0mmixer\u001b[0m\u001b[0;34m\u001b[0m\u001b[0m\n\u001b[1;32m      8\u001b[0m \u001b[0mmixer\u001b[0m\u001b[0;34m.\u001b[0m\u001b[0minit\u001b[0m\u001b[0;34m(\u001b[0m\u001b[0;34m)\u001b[0m \u001b[0;31m#you must initialize the mixer\u001b[0m\u001b[0;34m\u001b[0m\u001b[0m\n\u001b[0;32m----> 9\u001b[0;31m \u001b[0malert\u001b[0m\u001b[0;34m=\u001b[0m\u001b[0mmixer\u001b[0m\u001b[0;34m.\u001b[0m\u001b[0mSound\u001b[0m\u001b[0;34m(\u001b[0m\u001b[0;34m'bell.wav'\u001b[0m\u001b[0;34m)\u001b[0m\u001b[0;34m\u001b[0m\u001b[0m\n\u001b[0m\u001b[1;32m     10\u001b[0m \u001b[0malert\u001b[0m\u001b[0;34m.\u001b[0m\u001b[0mplay\u001b[0m\u001b[0;34m(\u001b[0m\u001b[0;34m)\u001b[0m\u001b[0;34m\u001b[0m\u001b[0m\n\u001b[1;32m     11\u001b[0m \u001b[0;34m\u001b[0m\u001b[0m\n",
      "\u001b[0;31merror\u001b[0m: Unable to open file 'bell.wav'"
     ]
    }
   ],
   "source": [
    "### gexin\n",
    "### calculate next 100 beacons' time \n",
    "### when it hits the time, play audio\n",
    "\n",
    "\n",
    "import time\n",
    "from pygame import mixer\n",
    "mixer.init() #you must initialize the mixer\n",
    "alert=mixer.Sound('bell.wav')\n",
    "alert.play()\n",
    "\n",
    "\n",
    "ticks = time.time()\n",
    "tick = int(ticks)\n",
    "if(tick%128) != 0:\n",
    "    tick += 128 - (tick%128);\n",
    "localtime = time.localtime(tick)\n",
    "\n",
    "beacon_list = []\n",
    "time_list = []\n",
    "while len(beacon_list) != 100:\n",
    "    s = time.strftime(\"%Y-%m-%d %H:%M:%S\", localtime)\n",
    "    beacon_list.append(s)\n",
    "    time_list.append(localtime)\n",
    "    tick += 128;\n",
    "    localtime = time.localtime(tick)\n",
    "\n",
    "    \n",
    "for s in beacon_list:\n",
    "    print(s)\n",
    "\n",
    "while 1:\n",
    "    ticks = time.time()\n",
    "    tick = int(ticks)\n",
    "    local = time.localtime(tick)\n",
    "    if local in time_list:\n",
    "        alert.play()"
   ]
  },
  {
   "cell_type": "code",
   "execution_count": null,
   "metadata": {
    "collapsed": true
   },
   "outputs": [],
   "source": []
  },
  {
   "cell_type": "code",
   "execution_count": null,
   "metadata": {
    "collapsed": true
   },
   "outputs": [],
   "source": []
  }
 ],
 "metadata": {
  "kernelspec": {
   "display_name": "Python 3",
   "language": "python",
   "name": "python3"
  },
  "language_info": {
   "codemirror_mode": {
    "name": "ipython",
    "version": 3
   },
   "file_extension": ".py",
   "mimetype": "text/x-python",
   "name": "python",
   "nbconvert_exporter": "python",
   "pygments_lexer": "ipython3",
   "version": "3.6.3"
  }
 },
 "nbformat": 4,
 "nbformat_minor": 2
}
